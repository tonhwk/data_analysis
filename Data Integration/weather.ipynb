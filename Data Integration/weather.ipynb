{
 "cells": [
  {
   "cell_type": "code",
   "execution_count": null,
   "id": "7e364653-7fed-4b67-afdc-353b8376556d",
   "metadata": {},
   "outputs": [],
   "source": [
    "import pandas as pd\n",
    "import requests"
   ]
  },
  {
   "cell_type": "code",
   "execution_count": null,
   "id": "e9ce134a-3bc4-4b08-b35c-95e31ead1a50",
   "metadata": {},
   "outputs": [],
   "source": [
    "# Load city data from CSV file\n",
    "city_data = pd.read_csv('worldcities.csv')"
   ]
  },
  {
   "cell_type": "code",
   "execution_count": null,
   "id": "80686b55-c57f-44db-bedf-69bf331b895c",
   "metadata": {},
   "outputs": [],
   "source": [
    "# Define function to fetch weather data for a city from API\n",
    "def fetch_weather_data(city):\n",
    "    api_key = '2f5bebb7c5ec8da6c4926b7f4f78aa47'\n",
    "    url = f'https://api.openweathermap.org/data/2.5/weather?q={city}&appid={api_key}&units=metric'\n",
    "    response = requests.get(url)\n",
    "    if response.status_code == 200:\n",
    "        return response.json()\n",
    "    else:\n",
    "        return None\n",
    "\n"
   ]
  },
  {
   "cell_type": "code",
   "execution_count": null,
   "id": "f76fb450-c9cc-465a-8b07-74a233e68286",
   "metadata": {},
   "outputs": [],
   "source": [
    "# Fetch weather data for each city and store in a list\n",
    "weather_data_list = []\n",
    "for city in city_data['city']:\n",
    "    print(f\"Fetching weather data for {city}...\")\n",
    "    try:\n",
    "        weather_data = fetch_weather_data(city)\n",
    "        if weather_data:\n",
    "            weather_data_list.append({\n",
    "                'city': city,\n",
    "                'Temperature (C)': weather_data['main']['temp'],\n",
    "                'Weather': weather_data['weather'][0]['description']\n",
    "            })\n",
    "            print(f\"Successfully fetched weather data for {city}\")\n",
    "        else:\n",
    "            print(f\"No weather data available for {city}\")\n",
    "    except Exception as e:\n",
    "        print(f\"Error fetching weather data for {city}: {e}\")"
   ]
  },
  {
   "cell_type": "code",
   "execution_count": null,
   "id": "f9586039-3167-4b9e-984a-b7966f18cc10",
   "metadata": {},
   "outputs": [],
   "source": [
    "# Create DataFrame from weather data list\n",
    "weather_df = pd.DataFrame(weather_data_list)"
   ]
  },
  {
   "cell_type": "code",
   "execution_count": null,
   "id": "eed0b668-5818-4104-8430-3191b1a541dc",
   "metadata": {},
   "outputs": [],
   "source": [
    "# Merge city data with weather data\n",
    "integrated_data = pd.merge(city_data, weather_df, on='city', how='inner')"
   ]
  },
  {
   "cell_type": "code",
   "execution_count": null,
   "id": "3b453adb-aaec-43ad-b7ee-93cf4ce540cc",
   "metadata": {},
   "outputs": [],
   "source": [
    "# Save integrated data to CSV file\n",
    "integrated_data.to_csv('integrated_weather_data.csv', index=False)"
   ]
  },
  {
   "cell_type": "code",
   "execution_count": null,
   "id": "e952ceea-17a7-4738-9b9f-522863093ca4",
   "metadata": {},
   "outputs": [],
   "source": []
  }
 ],
 "metadata": {
  "kernelspec": {
   "display_name": "Python 3 (ipykernel)",
   "language": "python",
   "name": "python3"
  },
  "language_info": {
   "codemirror_mode": {
    "name": "ipython",
    "version": 3
   },
   "file_extension": ".py",
   "mimetype": "text/x-python",
   "name": "python",
   "nbconvert_exporter": "python",
   "pygments_lexer": "ipython3",
   "version": "3.12.3"
  }
 },
 "nbformat": 4,
 "nbformat_minor": 5
}
