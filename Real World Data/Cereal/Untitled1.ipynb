{
 "cells": [
  {
   "cell_type": "code",
   "execution_count": null,
   "id": "215564b2-4a4b-4371-9a70-b0a580ca93b8",
   "metadata": {},
   "outputs": [],
   "source": []
  }
 ],
 "metadata": {
  "kernelspec": {
   "display_name": "",
   "name": ""
  },
  "language_info": {
   "name": ""
  }
 },
 "nbformat": 4,
 "nbformat_minor": 5
}
