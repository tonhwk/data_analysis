{
 "cells": [
  {
   "cell_type": "code",
   "execution_count": 1,
   "id": "3e1912b6-a9c7-4acd-af49-dad0988f20e8",
   "metadata": {},
   "outputs": [],
   "source": [
    "import pandas as pd\n",
    "from datetime import datetime\n",
    "import matplotlib.pyplot as plt\n",
    "import seaborn as sns"
   ]
  },
  {
   "cell_type": "code",
   "execution_count": 3,
   "id": "bef9b745-2b18-4d34-a4d0-66734dfa1470",
   "metadata": {},
   "outputs": [],
   "source": [
    "# Load the dataset\n",
    "df = pd.read_csv(\"purchase_orders.csv\")\n",
    "\n"
   ]
  },
  {
   "cell_type": "code",
   "execution_count": 4,
   "id": "051efdda-5f7a-4bc8-bebd-c37e8d0c570f",
   "metadata": {},
   "outputs": [
    {
     "data": {
      "text/html": [
       "<div>\n",
       "<style scoped>\n",
       "    .dataframe tbody tr th:only-of-type {\n",
       "        vertical-align: middle;\n",
       "    }\n",
       "\n",
       "    .dataframe tbody tr th {\n",
       "        vertical-align: top;\n",
       "    }\n",
       "\n",
       "    .dataframe thead th {\n",
       "        text-align: right;\n",
       "    }\n",
       "</style>\n",
       "<table border=\"1\" class=\"dataframe\">\n",
       "  <thead>\n",
       "    <tr style=\"text-align: right;\">\n",
       "      <th></th>\n",
       "      <th>Purchase_Order_Number</th>\n",
       "      <th>Component_Code</th>\n",
       "      <th>Component_Description</th>\n",
       "      <th>Quantity</th>\n",
       "      <th>Unit_Price</th>\n",
       "      <th>Total_Price</th>\n",
       "      <th>Order_Date</th>\n",
       "      <th>Delivery_Date</th>\n",
       "      <th>Status</th>\n",
       "    </tr>\n",
       "  </thead>\n",
       "  <tbody>\n",
       "    <tr>\n",
       "      <th>0</th>\n",
       "      <td>PO1001</td>\n",
       "      <td>COMP-001</td>\n",
       "      <td>Compressor Unit</td>\n",
       "      <td>500</td>\n",
       "      <td>200</td>\n",
       "      <td>100000</td>\n",
       "      <td>2021-01-05</td>\n",
       "      <td>2021-01-14</td>\n",
       "      <td>Delivered</td>\n",
       "    </tr>\n",
       "    <tr>\n",
       "      <th>1</th>\n",
       "      <td>PO1002</td>\n",
       "      <td>COMP-002</td>\n",
       "      <td>Condenser Coil</td>\n",
       "      <td>800</td>\n",
       "      <td>100</td>\n",
       "      <td>80000</td>\n",
       "      <td>2021-01-10</td>\n",
       "      <td>2021-01-21</td>\n",
       "      <td>Delivered</td>\n",
       "    </tr>\n",
       "    <tr>\n",
       "      <th>2</th>\n",
       "      <td>PO1003</td>\n",
       "      <td>COMP-003</td>\n",
       "      <td>Evaporator Coil</td>\n",
       "      <td>700</td>\n",
       "      <td>80</td>\n",
       "      <td>56000</td>\n",
       "      <td>2021-02-02</td>\n",
       "      <td>2021-02-16</td>\n",
       "      <td>Delivered</td>\n",
       "    </tr>\n",
       "    <tr>\n",
       "      <th>3</th>\n",
       "      <td>PO1004</td>\n",
       "      <td>COMP-004</td>\n",
       "      <td>Blower Motor</td>\n",
       "      <td>1000</td>\n",
       "      <td>50</td>\n",
       "      <td>50000</td>\n",
       "      <td>2021-02-15</td>\n",
       "      <td>2021-02-21</td>\n",
       "      <td>Delivered</td>\n",
       "    </tr>\n",
       "    <tr>\n",
       "      <th>4</th>\n",
       "      <td>PO1005</td>\n",
       "      <td>COMP-005</td>\n",
       "      <td>Expansion Valve</td>\n",
       "      <td>1200</td>\n",
       "      <td>20</td>\n",
       "      <td>24000</td>\n",
       "      <td>2021-03-10</td>\n",
       "      <td>2021-03-21</td>\n",
       "      <td>Delivered</td>\n",
       "    </tr>\n",
       "    <tr>\n",
       "      <th>5</th>\n",
       "      <td>PO1006</td>\n",
       "      <td>COMP-006</td>\n",
       "      <td>Heat Exchanger</td>\n",
       "      <td>300</td>\n",
       "      <td>150</td>\n",
       "      <td>45000</td>\n",
       "      <td>2021-03-15</td>\n",
       "      <td>2021-03-29</td>\n",
       "      <td>Delivered</td>\n",
       "    </tr>\n",
       "    <tr>\n",
       "      <th>6</th>\n",
       "      <td>PO1007</td>\n",
       "      <td>COMP-007</td>\n",
       "      <td>Thermostat</td>\n",
       "      <td>1500</td>\n",
       "      <td>10</td>\n",
       "      <td>15000</td>\n",
       "      <td>2021-04-02</td>\n",
       "      <td>2021-04-11</td>\n",
       "      <td>Delivered</td>\n",
       "    </tr>\n",
       "    <tr>\n",
       "      <th>7</th>\n",
       "      <td>PO1008</td>\n",
       "      <td>COMP-008</td>\n",
       "      <td>Control Board</td>\n",
       "      <td>600</td>\n",
       "      <td>30</td>\n",
       "      <td>18000</td>\n",
       "      <td>2021-04-10</td>\n",
       "      <td>2021-04-22</td>\n",
       "      <td>Delivered</td>\n",
       "    </tr>\n",
       "    <tr>\n",
       "      <th>8</th>\n",
       "      <td>PO1009</td>\n",
       "      <td>COMP-009</td>\n",
       "      <td>Fan Blade</td>\n",
       "      <td>2000</td>\n",
       "      <td>5</td>\n",
       "      <td>10000</td>\n",
       "      <td>2021-05-05</td>\n",
       "      <td>2021-05-09</td>\n",
       "      <td>Delivered</td>\n",
       "    </tr>\n",
       "    <tr>\n",
       "      <th>9</th>\n",
       "      <td>PO1010</td>\n",
       "      <td>COMP-010</td>\n",
       "      <td>Refrigerant Gas</td>\n",
       "      <td>10000</td>\n",
       "      <td>2</td>\n",
       "      <td>20000</td>\n",
       "      <td>2021-05-10</td>\n",
       "      <td>2021-05-20</td>\n",
       "      <td>Delivered</td>\n",
       "    </tr>\n",
       "  </tbody>\n",
       "</table>\n",
       "</div>"
      ],
      "text/plain": [
       "  Purchase_Order_Number Component_Code Component_Description  Quantity  \\\n",
       "0                PO1001       COMP-001       Compressor Unit       500   \n",
       "1                PO1002       COMP-002        Condenser Coil       800   \n",
       "2                PO1003       COMP-003       Evaporator Coil       700   \n",
       "3                PO1004       COMP-004          Blower Motor      1000   \n",
       "4                PO1005       COMP-005       Expansion Valve      1200   \n",
       "5                PO1006       COMP-006        Heat Exchanger       300   \n",
       "6                PO1007       COMP-007            Thermostat      1500   \n",
       "7                PO1008       COMP-008         Control Board       600   \n",
       "8                PO1009       COMP-009             Fan Blade      2000   \n",
       "9                PO1010       COMP-010       Refrigerant Gas     10000   \n",
       "\n",
       "   Unit_Price  Total_Price  Order_Date Delivery_Date     Status  \n",
       "0         200       100000  2021-01-05    2021-01-14  Delivered  \n",
       "1         100        80000  2021-01-10    2021-01-21  Delivered  \n",
       "2          80        56000  2021-02-02    2021-02-16  Delivered  \n",
       "3          50        50000  2021-02-15    2021-02-21  Delivered  \n",
       "4          20        24000  2021-03-10    2021-03-21  Delivered  \n",
       "5         150        45000  2021-03-15    2021-03-29  Delivered  \n",
       "6          10        15000  2021-04-02    2021-04-11  Delivered  \n",
       "7          30        18000  2021-04-10    2021-04-22  Delivered  \n",
       "8           5        10000  2021-05-05    2021-05-09  Delivered  \n",
       "9           2        20000  2021-05-10    2021-05-20  Delivered  "
      ]
     },
     "execution_count": 4,
     "metadata": {},
     "output_type": "execute_result"
    }
   ],
   "source": [
    "#Exploratory Data Analysis\n",
    "#Loading first rows of the dataset to ensure it loaded correctly\n",
    "df.head(10)"
   ]
  },
  {
   "cell_type": "code",
   "execution_count": 5,
   "id": "f4b73a2b-c521-4fe1-8973-c5ca05ecd179",
   "metadata": {},
   "outputs": [
    {
     "name": "stdout",
     "output_type": "stream",
     "text": [
      "\n",
      "Data types:\n",
      "Purchase_Order_Number    object\n",
      "Component_Code           object\n",
      "Component_Description    object\n",
      "Quantity                  int64\n",
      "Unit_Price                int64\n",
      "Total_Price               int64\n",
      "Order_Date               object\n",
      "Delivery_Date            object\n",
      "Status                   object\n",
      "dtype: object\n"
     ]
    }
   ],
   "source": [
    "# Check the data types of each column\n",
    "print(\"\\nData types:\")\n",
    "print(df.dtypes)"
   ]
  },
  {
   "cell_type": "code",
   "execution_count": 6,
   "id": "ffb1bba2-bc06-4b37-b476-e2f17c5c0ef8",
   "metadata": {},
   "outputs": [
    {
     "name": "stdout",
     "output_type": "stream",
     "text": [
      "\n",
      "Missing values:\n",
      "Purchase_Order_Number    0\n",
      "Component_Code           0\n",
      "Component_Description    0\n",
      "Quantity                 0\n",
      "Unit_Price               0\n",
      "Total_Price              0\n",
      "Order_Date               0\n",
      "Delivery_Date            0\n",
      "Status                   0\n",
      "dtype: int64\n"
     ]
    }
   ],
   "source": [
    "# Check for missing values\n",
    "print(\"\\nMissing values:\")\n",
    "print(df.isnull().sum())"
   ]
  },
  {
   "cell_type": "code",
   "execution_count": 7,
   "id": "f64e303d-b467-436f-a22f-45a77f31630c",
   "metadata": {},
   "outputs": [
    {
     "name": "stdout",
     "output_type": "stream",
     "text": [
      "\n",
      "Summary statistics:\n",
      "           Quantity  Unit_Price    Total_Price\n",
      "count     50.000000   50.000000      50.000000\n",
      "mean    2816.000000   64.700000   62160.000000\n",
      "std     4352.637483   64.656155   43360.195233\n",
      "min      300.000000    2.000000   10000.000000\n",
      "25%      825.000000   10.000000   26250.000000\n",
      "50%     1300.000000   40.000000   47500.000000\n",
      "75%     2375.000000  100.000000   94500.000000\n",
      "max    20000.000000  200.000000  180000.000000\n"
     ]
    }
   ],
   "source": [
    "# Summary statistics\n",
    "print(\"\\nSummary statistics:\")\n",
    "print(df.describe())"
   ]
  },
  {
   "cell_type": "code",
   "execution_count": 8,
   "id": "5497aa8f-cfc8-488b-8820-c23dda8c4f78",
   "metadata": {},
   "outputs": [
    {
     "name": "stdout",
     "output_type": "stream",
     "text": [
      "\n",
      "Duplicates:\n",
      "0\n"
     ]
    }
   ],
   "source": [
    "# Check for duplicates\n",
    "print(\"\\nDuplicates:\")\n",
    "print(df.duplicated().sum())"
   ]
  },
  {
   "cell_type": "code",
   "execution_count": 9,
   "id": "8c35f290-b8f5-47ef-b14c-149b910d31b2",
   "metadata": {},
   "outputs": [],
   "source": [
    "#Data Transformation\n",
    "# Convert dates to datetime objects\n",
    "df['Order_Date'] = pd.to_datetime(df['Order_Date'])\n",
    "df['Delivery_Date'] = pd.to_datetime(df['Delivery_Date'])"
   ]
  },
  {
   "cell_type": "code",
   "execution_count": 10,
   "id": "7498ebed-0da9-40b3-8bed-7f576fd53c8a",
   "metadata": {},
   "outputs": [
    {
     "name": "stdout",
     "output_type": "stream",
     "text": [
      "\n",
      "Top Components by Total Spend:\n",
      "Component_Description\n",
      "Compressor Unit    700000\n",
      "Condenser Coil     570000\n",
      "Evaporator Coil    408000\n",
      "Blower Motor       375000\n",
      "Heat Exchanger     375000\n",
      "Expansion Valve    180000\n",
      "Control Board      150000\n",
      "Refrigerant Gas    150000\n",
      "Thermostat         125000\n",
      "Fan Blade           75000\n",
      "Name: Total_Price, dtype: int64\n"
     ]
    }
   ],
   "source": [
    "# KPI 1: \n",
    "# Cost Savings: Reduction in purchase costs through better negotiation and supplier selection. \n",
    "# You can analyze the total spend by supplier or identify the top suppliers based on total spend.\n",
    "supplier_spend = df.groupby('Component_Description')['Total_Price'].sum().sort_values(ascending=False)\n",
    "print(\"\\nTop Components by Total Spend:\")\n",
    "print(supplier_spend)"
   ]
  },
  {
   "cell_type": "code",
   "execution_count": 11,
   "id": "8574643c-d2fb-4876-a8d6-1f768318b1c8",
   "metadata": {},
   "outputs": [
    {
     "name": "stdout",
     "output_type": "stream",
     "text": [
      "\n",
      "Order Accuracy (%): 98.0\n"
     ]
    }
   ],
   "source": [
    "# KPI 2: \n",
    "# Order Accuracy: Analyze the percentage of orders that were delivered correctly and on time to assess supplier performance.\n",
    "on_time_orders = df[df['Status'] == 'Delivered']\n",
    "accuracy = (on_time_orders.shape[0] / df.shape[0]) * 100\n",
    "print(\"\\nOrder Accuracy (%):\", accuracy)"
   ]
  },
  {
   "cell_type": "code",
   "execution_count": 12,
   "id": "d0d5af3a-bd4e-4110-b3d9-af92a9b33be4",
   "metadata": {},
   "outputs": [
    {
     "name": "stdout",
     "output_type": "stream",
     "text": [
      "Average Order Quantity: 2816.00\n"
     ]
    }
   ],
   "source": [
    "# KPI 3:  \n",
    "#Calculate average order quantity: Calculate the average quantity ordered per purchase order.\n",
    "#For manufacturing businesses, the average order quantity influences production planning and scheduling. \n",
    "average_order_quantity = df['Quantity'].mean()\n",
    "\n",
    "print(f\"Average Order Quantity: {average_order_quantity:.2f}\")"
   ]
  },
  {
   "cell_type": "code",
   "execution_count": 13,
   "id": "d8ccf6a2-3d6a-4be9-8d74-f69f3b2419c7",
   "metadata": {},
   "outputs": [
    {
     "name": "stdout",
     "output_type": "stream",
     "text": [
      "Average Order Value: 62160.00\n"
     ]
    }
   ],
   "source": [
    "# KPI 4: Average Order Value: Calculate the average total price per purchase order.\n",
    "# Revenue Tracking: AOV provides insights into the average revenue generated from each purchase. \n",
    "# By monitoring changes in AOV over time, businesses can assess the effectiveness of marketing campaigns, \n",
    "# pricing strategies, and product offerings.\n",
    "\n",
    "# Calculate Average Order Value\n",
    "average_order_value = df['Total_Price'].mean()\n",
    "\n",
    "print(f\"Average Order Value: {average_order_value:.2f}\")"
   ]
  },
  {
   "cell_type": "code",
   "execution_count": 14,
   "id": "01f0bc46-9c18-439f-b8ff-4a118297b9d6",
   "metadata": {},
   "outputs": [
    {
     "name": "stdout",
     "output_type": "stream",
     "text": [
      "   Purchase_Order_Number  Order_Processing_Time_Days\n",
      "0                 PO1001                           9\n",
      "1                 PO1002                          11\n",
      "2                 PO1003                          14\n",
      "3                 PO1004                           6\n",
      "4                 PO1005                          11\n",
      "5                 PO1006                          14\n",
      "6                 PO1007                           9\n",
      "7                 PO1008                          12\n",
      "8                 PO1009                           4\n",
      "9                 PO1010                          10\n",
      "10                PO1011                          11\n",
      "11                PO1012                           8\n",
      "12                PO1013                           7\n",
      "13                PO1014                          11\n",
      "14                PO1015                          11\n",
      "15                PO1016                          13\n",
      "16                PO1017                           9\n",
      "17                PO1018                           9\n",
      "18                PO1019                           6\n",
      "19                PO1020                           1\n",
      "20                PO1021                          20\n",
      "21                PO1022                          11\n",
      "22                PO1023                           6\n",
      "23                PO1024                           5\n",
      "24                PO1025                          15\n",
      "25                PO1026                           1\n",
      "26                PO1027                           3\n",
      "27                PO1028                           3\n",
      "28                PO1029                           3\n",
      "29                PO1030                           4\n",
      "30                PO1031                           2\n",
      "31                PO1032                          19\n",
      "32                PO1033                           2\n",
      "33                PO1034                           3\n",
      "34                PO1035                          10\n",
      "35                PO1036                           3\n",
      "36                PO1037                           5\n",
      "37                PO1038                          10\n",
      "38                PO1039                          10\n",
      "39                PO1040                          12\n",
      "40                PO1041                          13\n",
      "41                PO1042                          14\n",
      "42                PO1043                           9\n",
      "43                PO1044                           6\n",
      "44                PO1045                           7\n",
      "45                PO1046                           3\n",
      "46                PO1047                          17\n",
      "47                PO1048                          20\n",
      "48                PO1049                          16\n",
      "49                PO1050                          10\n"
     ]
    }
   ],
   "source": [
    "# KPI 5: Order Processing Time\n",
    "# Competitive Advantage: Businesses that can efficiently process orders and deliver products ahead of their \n",
    "#competitors gain a competitive edge.\n",
    "\n",
    "# Calculate Order Processing Time\n",
    "df['Order_Processing_Time'] = df['Delivery_Date'] - df['Order_Date']\n",
    "\n",
    "# Convert timedelta to days (optional)\n",
    "df['Order_Processing_Time_Days'] = df['Order_Processing_Time'].dt.days\n",
    "\n",
    "# Print the DataFrame with Order Processing Time\n",
    "print(df[['Purchase_Order_Number', 'Order_Processing_Time_Days']])"
   ]
  },
  {
   "cell_type": "code",
   "execution_count": 15,
   "id": "4725cab3-d96d-4b88-8709-0afa9dddbd0d",
   "metadata": {},
   "outputs": [
    {
     "name": "stdout",
     "output_type": "stream",
     "text": [
      "Summary Statistics of Order Processing Time:\n",
      "count    50.000000\n",
      "mean      8.960000\n",
      "std       4.977336\n",
      "min       1.000000\n",
      "25%       5.000000\n",
      "50%       9.000000\n",
      "75%      11.750000\n",
      "max      20.000000\n",
      "Name: Order_Processing_Time_Days, dtype: float64\n"
     ]
    }
   ],
   "source": [
    "# Summary statistics\n",
    "print(\"Summary Statistics of Order Processing Time:\")\n",
    "print(df['Order_Processing_Time_Days'].describe())"
   ]
  },
  {
   "cell_type": "code",
   "execution_count": 16,
   "id": "31dfd1e1-ff10-4a77-9364-42e852b4b268",
   "metadata": {},
   "outputs": [
    {
     "data": {
      "image/png": "[encoded data removed]",
      "text/plain": [
       "<Figure size 1000x600 with 1 Axes>"
      ]
     },
     "metadata": {},
     "output_type": "display_data"
    }
   ],
   "source": [
    "# Distribution plot\n",
    "plt.figure(figsize=(10, 6))\n",
    "sns.histplot(df['Order_Processing_Time_Days'], kde=True, bins=20)\n",
    "plt.title('Distribution of Order Processing Time')\n",
    "plt.xlabel('Order Processing Time (Days)')\n",
    "plt.ylabel('Frequency')\n",
    "plt.show()"
   ]
  },
  {
   "cell_type": "code",
   "execution_count": 17,
   "id": "fbdad0b6-a0a0-4f09-a5e3-6628dd82e00d",
   "metadata": {},
   "outputs": [
    {
     "name": "stdout",
     "output_type": "stream",
     "text": [
      "Percentage of Orders Delivered On Time: 62.00%\n",
      "   Purchase_Order_Number Component_Code  On_Time_Delivery\n",
      "0                 PO1001       COMP-001              True\n",
      "1                 PO1002       COMP-002             False\n",
      "2                 PO1003       COMP-003             False\n",
      "3                 PO1004       COMP-004              True\n",
      "4                 PO1005       COMP-005             False\n",
      "5                 PO1006       COMP-006             False\n",
      "6                 PO1007       COMP-007              True\n",
      "7                 PO1008       COMP-008             False\n",
      "8                 PO1009       COMP-009              True\n",
      "9                 PO1010       COMP-010              True\n",
      "10                PO1011       COMP-001             False\n",
      "11                PO1012       COMP-002              True\n",
      "12                PO1013       COMP-003              True\n",
      "13                PO1014       COMP-004             False\n",
      "14                PO1015       COMP-005             False\n",
      "15                PO1016       COMP-006             False\n",
      "16                PO1017       COMP-007              True\n",
      "17                PO1018       COMP-008              True\n",
      "18                PO1019       COMP-009              True\n",
      "19                PO1020       COMP-010              True\n",
      "20                PO1021       COMP-001             False\n",
      "21                PO1022       COMP-002             False\n",
      "22                PO1023       COMP-003              True\n",
      "23                PO1024       COMP-004              True\n",
      "24                PO1025       COMP-005             False\n",
      "25                PO1026       COMP-006              True\n",
      "26                PO1027       COMP-007              True\n",
      "27                PO1028       COMP-008              True\n",
      "28                PO1029       COMP-009              True\n",
      "29                PO1030       COMP-010              True\n",
      "30                PO1031       COMP-001              True\n",
      "31                PO1032       COMP-002             False\n",
      "32                PO1033       COMP-003              True\n",
      "33                PO1034       COMP-004              True\n",
      "34                PO1035       COMP-005              True\n",
      "35                PO1036       COMP-006              True\n",
      "36                PO1037       COMP-007              True\n",
      "37                PO1038       COMP-008              True\n",
      "38                PO1039       COMP-009              True\n",
      "39                PO1040       COMP-010             False\n",
      "40                PO1041       COMP-001             False\n",
      "41                PO1042       COMP-002             False\n",
      "42                PO1043       COMP-003              True\n",
      "43                PO1044       COMP-004              True\n",
      "44                PO1045       COMP-005              True\n",
      "45                PO1046       COMP-006              True\n",
      "46                PO1047       COMP-007             False\n",
      "47                PO1048       COMP-008             False\n",
      "48                PO1049       COMP-009             False\n",
      "49                PO1050       COMP-010              True\n"
     ]
    }
   ],
   "source": [
    "# KPI 6\n",
    "# Delivery Performance: Analyze the delivery performance by calculating the percentage of orders delivered on time.\n",
    "# Process Improvement: Monitoring delivery performance can highlight inefficiencies in the supply chain or logistics processes. \n",
    "# Identifying and addressing these can lead to smoother operations.\n",
    "# Define acceptable delivery period (e.g., 14 days)\n",
    "acceptable_delivery_period = 10\n",
    "\n",
    "# Calculate if the delivery is on time\n",
    "df['On_Time_Delivery'] = (df['Delivery_Date'] - df['Order_Date']).dt.days <= acceptable_delivery_period\n",
    "\n",
    "# Calculate the percentage of orders delivered on time\n",
    "on_time_percentage = (df['On_Time_Delivery'].sum() / len(df)) * 100\n",
    "\n",
    "# Display the result\n",
    "print(f\"Percentage of Orders Delivered On Time: {on_time_percentage:.2f}%\")\n",
    "\n",
    "# Display the DataFrame with the On_Time_Delivery column\n",
    "print(df[['Purchase_Order_Number', 'Component_Code', 'On_Time_Delivery']])"
   ]
  },
  {
   "cell_type": "code",
   "execution_count": 18,
   "id": "ff6dadf4-1cf5-415b-8cb5-afeb9a4adda5",
   "metadata": {},
   "outputs": [
    {
     "name": "stdout",
     "output_type": "stream",
     "text": [
      "Percentage of Orders Delivered On Time: 62.00%\n"
     ]
    }
   ],
   "source": [
    "# Calculate the percentage of orders delivered on time\n",
    "on_time_percentage = (df['On_Time_Delivery'].sum() / len(df)) * 100\n",
    "print(f\"Percentage of Orders Delivered On Time: {on_time_percentage:.2f}%\")"
   ]
  },
  {
   "cell_type": "code",
   "execution_count": 19,
   "id": "8559321c-e46b-458d-b41d-854d42639f35",
   "metadata": {},
   "outputs": [
    {
     "name": "stdout",
     "output_type": "stream",
     "text": [
      "\n",
      "On-Time Delivery Rate by Component:\n",
      "Component_Code\n",
      "COMP-001    40.0\n",
      "COMP-002    20.0\n",
      "COMP-003    80.0\n",
      "COMP-004    80.0\n",
      "COMP-005    40.0\n",
      "COMP-006    60.0\n",
      "COMP-007    80.0\n",
      "COMP-008    60.0\n",
      "COMP-009    80.0\n",
      "COMP-010    80.0\n",
      "Name: On_Time_Delivery, dtype: float64\n"
     ]
    }
   ],
   "source": [
    "# Breakdown by Component\n",
    "component_performance = df.groupby('Component_Code')['On_Time_Delivery'].mean() * 100\n",
    "print(\"\\nOn-Time Delivery Rate by Component:\")\n",
    "print(component_performance)"
   ]
  },
  {
   "cell_type": "code",
   "execution_count": 20,
   "id": "a8255c1c-e74f-40cf-82b1-23e67105e967",
   "metadata": {},
   "outputs": [
    {
     "data": {
      "text/plain": [
       "<Figure size 1000x600 with 0 Axes>"
      ]
     },
     "execution_count": 20,
     "metadata": {},
     "output_type": "execute_result"
    },
    {
     "data": {
      "text/plain": [
       "<Figure size 1000x600 with 0 Axes>"
      ]
     },
     "metadata": {},
     "output_type": "display_data"
    }
   ],
   "source": [
    "# Visualization: On-Time Delivery Performance\n",
    "plt.figure(figsize=(10, 6))"
   ]
  },
  {
   "cell_type": "code",
   "execution_count": 21,
   "id": "ade32170-a331-459c-84e7-9f44ad5ce3cc",
   "metadata": {},
   "outputs": [
    {
     "data": {
      "text/plain": [
       "Text(0.5, 1.0, 'Overall On-Time Delivery Performance')"
      ]
     },
     "execution_count": 21,
     "metadata": {},
     "output_type": "execute_result"
    },
    {
     "data": {
      "image/png": "[encoded data removed]",
      "text/plain": [
       "<Figure size 640x480 with 1 Axes>"
      ]
     },
     "metadata": {},
     "output_type": "display_data"
    }
   ],
   "source": [
    "# Pie chart for overall on-time delivery rate\n",
    "plt.subplot(1, 2, 1)\n",
    "plt.pie([on_time_percentage, 100 - on_time_percentage], labels=['On Time', 'Late'], autopct='%1.1f%%', startangle=140, colors=['#1f77b4', '#ff7f0e'])\n",
    "plt.title('Overall On-Time Delivery Performance')"
   ]
  },
  {
   "cell_type": "code",
   "execution_count": 22,
   "id": "14102ad9-bcd4-48e2-9286-aacf16473218",
   "metadata": {},
   "outputs": [
    {
     "data": {
      "image/png": "[encoded data removed]",
      "text/plain": [
       "<Figure size 640x480 with 1 Axes>"
      ]
     },
     "metadata": {},
     "output_type": "display_data"
    }
   ],
   "source": [
    "# Bar chart for on-time delivery by component\n",
    "plt.subplot(1, 2, 2)\n",
    "component_performance.plot(kind='bar', color='#2ca02c')\n",
    "plt.title('On-Time Delivery Rate by Component')\n",
    "plt.ylabel('On-Time Delivery Rate (%)')\n",
    "plt.xlabel('Component Code')\n",
    "plt.xticks(rotation=45)\n",
    "\n",
    "plt.tight_layout()\n",
    "plt.show()"
   ]
  },
  {
   "cell_type": "code",
   "execution_count": null,
   "id": "b9114f80-b778-49dd-a3ee-eddd9091f516",
   "metadata": {},
   "outputs": [],
   "source": []
  }
 ],
 "metadata": {
  "kernelspec": {
   "display_name": "Python 3 (ipykernel)",
   "language": "python",
   "name": "python3"
  },
  "language_info": {
   "codemirror_mode": {
    "name": "ipython",
    "version": 3
   },
   "file_extension": ".py",
   "mimetype": "text/x-python",
   "name": "python",
   "nbconvert_exporter": "python",
   "pygments_lexer": "ipython3",
   "version": "3.12.3"
  }
 },
 "nbformat": 4,
 "nbformat_minor": 5
}
