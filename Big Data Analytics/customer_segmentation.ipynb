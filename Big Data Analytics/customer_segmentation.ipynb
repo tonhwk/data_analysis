{
 "cells": [
  {
   "cell_type": "code",
   "execution_count": 4,
   "id": "4a961746-d7ff-401d-a1f8-94edb32ead60",
   "metadata": {},
   "outputs": [],
   "source": [
    "from pyspark.sql import SparkSession\n",
    "from pyspark.ml.feature import VectorAssembler\n",
    "from pyspark.ml.clustering import KMeans\n",
    "import matplotlib.pyplot as plt"
   ]
  },
  {
   "cell_type": "code",
   "execution_count": 5,
   "id": "847def9c-0439-47a7-8590-c876a77a3b24",
   "metadata": {},
   "outputs": [],
   "source": [
    "# Load the CSV file into a Spark DataFrame\n",
    "df = spark.read.csv(\"customer_purchase_data.csv\", header=True, inferSchema=True)"
   ]
  },
  {
   "cell_type": "code",
   "execution_count": 6,
   "id": "eb6f922b-6809-4b7f-a4a4-b1dbdd1d987b",
   "metadata": {},
   "outputs": [
    {
     "name": "stdout",
     "output_type": "stream",
     "text": [
      "+-------+------------------+------------------------+-------------------+-----------------+\n",
      "|summary|       Customer_ID|Days_Since_Last_Purchase|Number_of_Purchases|   Total_Spending|\n",
      "+-------+------------------+------------------------+-------------------+-----------------+\n",
      "|  count|                10|                      10|                 10|               10|\n",
      "|   mean|               5.5|                    19.5|                4.8|            107.0|\n",
      "| stddev|3.0276503540974917|       8.746427842267952| 2.0976176963403033|42.37399621885521|\n",
      "|    min|                 1|                       8|                  2|               50|\n",
      "|    max|                10|                      35|                  9|              200|\n",
      "+-------+------------------+------------------------+-------------------+-----------------+\n",
      "\n"
     ]
    }
   ],
   "source": [
    "# Perform data preprocessing and feature engineering\n",
    "# (Handle missing values, clean data, and create features as needed)\n",
    "\n",
    "# Exploratory Data Analysis (EDA)\n",
    "# Calculate summary statistics\n",
    "df.describe().show()"
   ]
  },
  {
   "cell_type": "code",
   "execution_count": 8,
   "id": "307fb032-45c8-4bff-9e4e-dbf6839f978d",
   "metadata": {},
   "outputs": [],
   "source": [
    "# Visualize distributions\n",
    "# Example: Histogram of number of purchases\n",
    "purchase_hist = df.select(\"Number_of_Purchases\").rdd.flatMap(lambda x: x).histogram(10)\n",
    "bin_edges = purchase_hist[0]\n",
    "counts = purchase_hist[1]"
   ]
  },
  {
   "cell_type": "code",
   "execution_count": 9,
   "id": "bd26f8b9-e1f0-4aaa-b993-683b83ac1829",
   "metadata": {},
   "outputs": [],
   "source": [
    "# Convert bin edges to bin centers for plotting\n",
    "bin_centers = [(bin_edges[i] + bin_edges[i+1]) / 2 for i in range(len(bin_edges) - 1)]"
   ]
  },
  {
   "cell_type": "code",
   "execution_count": null,
   "id": "f87085c2-74a4-420f-b410-597babbb448d",
   "metadata": {},
   "outputs": [],
   "source": []
  }
 ],
 "metadata": {
  "kernelspec": {
   "display_name": "Python 3 (ipykernel)",
   "language": "python",
   "name": "python3"
  },
  "language_info": {
   "codemirror_mode": {
    "name": "ipython",
    "version": 3
   },
   "file_extension": ".py",
   "mimetype": "text/x-python",
   "name": "python",
   "nbconvert_exporter": "python",
   "pygments_lexer": "ipython3",
   "version": "3.12.3"
  }
 },
 "nbformat": 4,
 "nbformat_minor": 5
}
