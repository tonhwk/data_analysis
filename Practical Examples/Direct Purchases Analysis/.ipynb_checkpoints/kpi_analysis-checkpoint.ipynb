{
 "cells": [
  {
   "cell_type": "code",
   "execution_count": 15,
   "id": "3e1912b6-a9c7-4acd-af49-dad0988f20e8",
   "metadata": {},
   "outputs": [],
   "source": [
    "import pandas as pd\n",
    "from datetime import datetime"
   ]
  },
  {
   "cell_type": "code",
   "execution_count": 16,
   "id": "bef9b745-2b18-4d34-a4d0-66734dfa1470",
   "metadata": {},
   "outputs": [],
   "source": [
    "# Load the dataset\n",
    "df = pd.read_csv(\"daikin_purchase_orders.csv\")\n",
    "\n"
   ]
  },
  {
   "cell_type": "code",
   "execution_count": 17,
   "id": "051efdda-5f7a-4bc8-bebd-c37e8d0c570f",
   "metadata": {},
   "outputs": [
    {
     "data": {
      "text/html": [
       "<div>\n",
       "<style scoped>\n",
       "    .dataframe tbody tr th:only-of-type {\n",
       "        vertical-align: middle;\n",
       "    }\n",
       "\n",
       "    .dataframe tbody tr th {\n",
       "        vertical-align: top;\n",
       "    }\n",
       "\n",
       "    .dataframe thead th {\n",
       "        text-align: right;\n",
       "    }\n",
       "</style>\n",
       "<table border=\"1\" class=\"dataframe\">\n",
       "  <thead>\n",
       "    <tr style=\"text-align: right;\">\n",
       "      <th></th>\n",
       "      <th>Purchase_Order_Number</th>\n",
       "      <th>Component_Code</th>\n",
       "      <th>Component_Description</th>\n",
       "      <th>Quantity</th>\n",
       "      <th>Unit_Price</th>\n",
       "      <th>Total_Price</th>\n",
       "      <th>Order_Date</th>\n",
       "      <th>Delivery_Date</th>\n",
       "      <th>Status</th>\n",
       "    </tr>\n",
       "  </thead>\n",
       "  <tbody>\n",
       "    <tr>\n",
       "      <th>0</th>\n",
       "      <td>PO1001</td>\n",
       "      <td>COMP-001</td>\n",
       "      <td>Compressor Unit</td>\n",
       "      <td>500</td>\n",
       "      <td>200</td>\n",
       "      <td>100000</td>\n",
       "      <td>2021-01-05</td>\n",
       "      <td>2021-01-15</td>\n",
       "      <td>Delivered</td>\n",
       "    </tr>\n",
       "    <tr>\n",
       "      <th>1</th>\n",
       "      <td>PO1002</td>\n",
       "      <td>COMP-002</td>\n",
       "      <td>Condenser Coil</td>\n",
       "      <td>800</td>\n",
       "      <td>100</td>\n",
       "      <td>80000</td>\n",
       "      <td>2021-01-10</td>\n",
       "      <td>2021-01-20</td>\n",
       "      <td>Delivered</td>\n",
       "    </tr>\n",
       "    <tr>\n",
       "      <th>2</th>\n",
       "      <td>PO1003</td>\n",
       "      <td>COMP-003</td>\n",
       "      <td>Evaporator Coil</td>\n",
       "      <td>700</td>\n",
       "      <td>80</td>\n",
       "      <td>56000</td>\n",
       "      <td>2021-02-02</td>\n",
       "      <td>2021-02-12</td>\n",
       "      <td>Delivered</td>\n",
       "    </tr>\n",
       "    <tr>\n",
       "      <th>3</th>\n",
       "      <td>PO1004</td>\n",
       "      <td>COMP-004</td>\n",
       "      <td>Blower Motor</td>\n",
       "      <td>1000</td>\n",
       "      <td>50</td>\n",
       "      <td>50000</td>\n",
       "      <td>2021-02-15</td>\n",
       "      <td>2021-02-25</td>\n",
       "      <td>Delivered</td>\n",
       "    </tr>\n",
       "    <tr>\n",
       "      <th>4</th>\n",
       "      <td>PO1005</td>\n",
       "      <td>COMP-005</td>\n",
       "      <td>Expansion Valve</td>\n",
       "      <td>1200</td>\n",
       "      <td>20</td>\n",
       "      <td>24000</td>\n",
       "      <td>2021-03-10</td>\n",
       "      <td>2021-03-20</td>\n",
       "      <td>Delivered</td>\n",
       "    </tr>\n",
       "  </tbody>\n",
       "</table>\n",
       "</div>"
      ],
      "text/plain": [
       "  Purchase_Order_Number Component_Code Component_Description  Quantity  \\\n",
       "0                PO1001       COMP-001       Compressor Unit       500   \n",
       "1                PO1002       COMP-002        Condenser Coil       800   \n",
       "2                PO1003       COMP-003       Evaporator Coil       700   \n",
       "3                PO1004       COMP-004          Blower Motor      1000   \n",
       "4                PO1005       COMP-005       Expansion Valve      1200   \n",
       "\n",
       "   Unit_Price  Total_Price  Order_Date Delivery_Date     Status  \n",
       "0         200       100000  2021-01-05    2021-01-15  Delivered  \n",
       "1         100        80000  2021-01-10    2021-01-20  Delivered  \n",
       "2          80        56000  2021-02-02    2021-02-12  Delivered  \n",
       "3          50        50000  2021-02-15    2021-02-25  Delivered  \n",
       "4          20        24000  2021-03-10    2021-03-20  Delivered  "
      ]
     },
     "execution_count": 17,
     "metadata": {},
     "output_type": "execute_result"
    }
   ],
   "source": [
    "#Exploratory Data Analysis\n",
    "#Loading first rows of the dataset to ensure it loaded correctly\n",
    "df.head()"
   ]
  },
  {
   "cell_type": "code",
   "execution_count": 18,
   "id": "f4b73a2b-c521-4fe1-8973-c5ca05ecd179",
   "metadata": {},
   "outputs": [
    {
     "name": "stdout",
     "output_type": "stream",
     "text": [
      "\n",
      "Data types:\n",
      "Purchase_Order_Number    object\n",
      "Component_Code           object\n",
      "Component_Description    object\n",
      "Quantity                  int64\n",
      "Unit_Price                int64\n",
      "Total_Price               int64\n",
      "Order_Date               object\n",
      "Delivery_Date            object\n",
      "Status                   object\n",
      "dtype: object\n"
     ]
    }
   ],
   "source": [
    "# Check the data types of each column\n",
    "print(\"\\nData types:\")\n",
    "print(df.dtypes)"
   ]
  },
  {
   "cell_type": "code",
   "execution_count": 19,
   "id": "ffb1bba2-bc06-4b37-b476-e2f17c5c0ef8",
   "metadata": {},
   "outputs": [
    {
     "name": "stdout",
     "output_type": "stream",
     "text": [
      "\n",
      "Missing values:\n",
      "Purchase_Order_Number    0\n",
      "Component_Code           0\n",
      "Component_Description    0\n",
      "Quantity                 0\n",
      "Unit_Price               0\n",
      "Total_Price              0\n",
      "Order_Date               0\n",
      "Delivery_Date            0\n",
      "Status                   0\n",
      "dtype: int64\n"
     ]
    }
   ],
   "source": [
    "# Check for missing values\n",
    "print(\"\\nMissing values:\")\n",
    "print(df.isnull().sum())"
   ]
  },
  {
   "cell_type": "code",
   "execution_count": 20,
   "id": "f64e303d-b467-436f-a22f-45a77f31630c",
   "metadata": {},
   "outputs": [
    {
     "name": "stdout",
     "output_type": "stream",
     "text": [
      "\n",
      "Summary statistics:\n",
      "           Quantity  Unit_Price    Total_Price\n",
      "count     50.000000   50.000000      50.000000\n",
      "mean    2816.000000   64.700000   62160.000000\n",
      "std     4352.637483   64.656155   43360.195233\n",
      "min      300.000000    2.000000   10000.000000\n",
      "25%      825.000000   10.000000   26250.000000\n",
      "50%     1300.000000   40.000000   47500.000000\n",
      "75%     2375.000000  100.000000   94500.000000\n",
      "max    20000.000000  200.000000  180000.000000\n"
     ]
    }
   ],
   "source": [
    "# Summary statistics\n",
    "print(\"\\nSummary statistics:\")\n",
    "print(df.describe())"
   ]
  },
  {
   "cell_type": "code",
   "execution_count": 21,
   "id": "5497aa8f-cfc8-488b-8820-c23dda8c4f78",
   "metadata": {},
   "outputs": [
    {
     "name": "stdout",
     "output_type": "stream",
     "text": [
      "\n",
      "Duplicates:\n",
      "0\n"
     ]
    }
   ],
   "source": [
    "# Check for duplicates\n",
    "print(\"\\nDuplicates:\")\n",
    "print(df.duplicated().sum())"
   ]
  },
  {
   "cell_type": "code",
   "execution_count": 22,
   "id": "8c35f290-b8f5-47ef-b14c-149b910d31b2",
   "metadata": {},
   "outputs": [],
   "source": [
    "#Data Transformation\n",
    "# Convert dates to datetime objects\n",
    "df['Order_Date'] = pd.to_datetime(df['Order_Date'])\n",
    "df['Delivery_Date'] = pd.to_datetime(df['Delivery_Date'])"
   ]
  },
  {
   "cell_type": "code",
   "execution_count": 28,
   "id": "7498ebed-0da9-40b3-8bed-7f576fd53c8a",
   "metadata": {},
   "outputs": [
    {
     "name": "stdout",
     "output_type": "stream",
     "text": [
      "\n",
      "Top Components by Total Spend:\n",
      "Component_Description\n",
      "Compressor Unit    700000\n",
      "Condenser Coil     570000\n",
      "Evaporator Coil    408000\n",
      "Blower Motor       375000\n",
      "Heat Exchanger     375000\n",
      "Expansion Valve    180000\n",
      "Control Board      150000\n",
      "Refrigerant Gas    150000\n",
      "Thermostat         125000\n",
      "Fan Blade           75000\n",
      "Name: Total_Price, dtype: int64\n"
     ]
    }
   ],
   "source": [
    "# KPI 1: \n",
    "# Cost Savings: Reduction in purchase costs through better negotiation and supplier selection. \n",
    "# You can analyze the total spend by supplier or identify the top suppliers based on total spend\n",
    "supplier_spend = df.groupby('Component_Description')['Total_Price'].sum().sort_values(ascending=False)\n",
    "print(\"\\nTop Components by Total Spend:\")\n",
    "print(supplier_spend)"
   ]
  },
  {
   "cell_type": "code",
   "execution_count": 31,
   "id": "3dd16df0-4816-4b9b-b754-1afd3f96d8fd",
   "metadata": {},
   "outputs": [
    {
     "name": "stdout",
     "output_type": "stream",
     "text": [
      "\n",
      "Average Supplier Lead Time (days): 10.0\n"
     ]
    }
   ],
   "source": [
    "# KPI 2: \n",
    "# Supplier Lead Time: Time taken from order placement to delivery.\n",
    "df['Lead_Time'] = (df['Delivery_Date'] - df['Order_Date']).dt.days\n",
    "avg_lead_time = df['Lead_Time'].mean()\n",
    "print(\"\\nAverage Supplier Lead Time (days):\", avg_lead_time)"
   ]
  },
  {
   "cell_type": "code",
   "execution_count": 32,
   "id": "634d494c-ec33-4906-9591-9f65c3d4c1b1",
   "metadata": {},
   "outputs": [
    {
     "name": "stdout",
     "output_type": "stream",
     "text": [
      "\n",
      "Order Accuracy (%): 100.0\n"
     ]
    }
   ],
   "source": [
    "# KPI 3: Order Accuracy\n",
    "# Calculate the percentage of orders delivered correctly and on time\n",
    "on_time_orders = df[df['Status'] == 'Delivered']\n",
    "accuracy = (on_time_orders.shape[0] / df.shape[0]) * 100\n",
    "print(\"\\nOrder Accuracy (%):\", accuracy)"
   ]
  },
  {
   "cell_type": "code",
   "execution_count": 45,
   "id": "31735bfe-9610-43fd-ad53-0252412d23b6",
   "metadata": {},
   "outputs": [
    {
     "data": {
      "text/html": [
       "<div>\n",
       "<style scoped>\n",
       "    .dataframe tbody tr th:only-of-type {\n",
       "        vertical-align: middle;\n",
       "    }\n",
       "\n",
       "    .dataframe tbody tr th {\n",
       "        vertical-align: top;\n",
       "    }\n",
       "\n",
       "    .dataframe thead th {\n",
       "        text-align: right;\n",
       "    }\n",
       "</style>\n",
       "<table border=\"1\" class=\"dataframe\">\n",
       "  <thead>\n",
       "    <tr style=\"text-align: right;\">\n",
       "      <th></th>\n",
       "      <th>Purchase_Order_Number</th>\n",
       "      <th>Component_Code</th>\n",
       "      <th>Component_Description</th>\n",
       "      <th>Quantity</th>\n",
       "      <th>Unit_Price</th>\n",
       "      <th>Total_Price</th>\n",
       "      <th>Order_Date</th>\n",
       "      <th>Delivery_Date</th>\n",
       "      <th>Status</th>\n",
       "      <th>Lead_Time</th>\n",
       "      <th>Supplier_Rating</th>\n",
       "    </tr>\n",
       "  </thead>\n",
       "  <tbody>\n",
       "    <tr>\n",
       "      <th>0</th>\n",
       "      <td>PO1001</td>\n",
       "      <td>COMP-001</td>\n",
       "      <td>Compressor Unit</td>\n",
       "      <td>500</td>\n",
       "      <td>200</td>\n",
       "      <td>100000</td>\n",
       "      <td>2021-01-05</td>\n",
       "      <td>2021-01-15</td>\n",
       "      <td>Delivered</td>\n",
       "      <td>10</td>\n",
       "      <td>4.0</td>\n",
       "    </tr>\n",
       "    <tr>\n",
       "      <th>1</th>\n",
       "      <td>PO1002</td>\n",
       "      <td>COMP-002</td>\n",
       "      <td>Condenser Coil</td>\n",
       "      <td>800</td>\n",
       "      <td>100</td>\n",
       "      <td>80000</td>\n",
       "      <td>2021-01-10</td>\n",
       "      <td>2021-01-20</td>\n",
       "      <td>Delivered</td>\n",
       "      <td>10</td>\n",
       "      <td>4.0</td>\n",
       "    </tr>\n",
       "    <tr>\n",
       "      <th>2</th>\n",
       "      <td>PO1003</td>\n",
       "      <td>COMP-003</td>\n",
       "      <td>Evaporator Coil</td>\n",
       "      <td>700</td>\n",
       "      <td>80</td>\n",
       "      <td>56000</td>\n",
       "      <td>2021-02-02</td>\n",
       "      <td>2021-02-12</td>\n",
       "      <td>Delivered</td>\n",
       "      <td>10</td>\n",
       "      <td>4.0</td>\n",
       "    </tr>\n",
       "    <tr>\n",
       "      <th>3</th>\n",
       "      <td>PO1004</td>\n",
       "      <td>COMP-004</td>\n",
       "      <td>Blower Motor</td>\n",
       "      <td>1000</td>\n",
       "      <td>50</td>\n",
       "      <td>50000</td>\n",
       "      <td>2021-02-15</td>\n",
       "      <td>2021-02-25</td>\n",
       "      <td>Delivered</td>\n",
       "      <td>10</td>\n",
       "      <td>4.0</td>\n",
       "    </tr>\n",
       "    <tr>\n",
       "      <th>4</th>\n",
       "      <td>PO1005</td>\n",
       "      <td>COMP-005</td>\n",
       "      <td>Expansion Valve</td>\n",
       "      <td>1200</td>\n",
       "      <td>20</td>\n",
       "      <td>24000</td>\n",
       "      <td>2021-03-10</td>\n",
       "      <td>2021-03-20</td>\n",
       "      <td>Delivered</td>\n",
       "      <td>10</td>\n",
       "      <td>4.0</td>\n",
       "    </tr>\n",
       "  </tbody>\n",
       "</table>\n",
       "</div>"
      ],
      "text/plain": [
       "  Purchase_Order_Number Component_Code Component_Description  Quantity  \\\n",
       "0                PO1001       COMP-001       Compressor Unit       500   \n",
       "1                PO1002       COMP-002        Condenser Coil       800   \n",
       "2                PO1003       COMP-003       Evaporator Coil       700   \n",
       "3                PO1004       COMP-004          Blower Motor      1000   \n",
       "4                PO1005       COMP-005       Expansion Valve      1200   \n",
       "\n",
       "   Unit_Price  Total_Price Order_Date Delivery_Date     Status  Lead_Time  \\\n",
       "0         200       100000 2021-01-05    2021-01-15  Delivered         10   \n",
       "1         100        80000 2021-01-10    2021-01-20  Delivered         10   \n",
       "2          80        56000 2021-02-02    2021-02-12  Delivered         10   \n",
       "3          50        50000 2021-02-15    2021-02-25  Delivered         10   \n",
       "4          20        24000 2021-03-10    2021-03-20  Delivered         10   \n",
       "\n",
       "   Supplier_Rating  \n",
       "0              4.0  \n",
       "1              4.0  \n",
       "2              4.0  \n",
       "3              4.0  \n",
       "4              4.0  "
      ]
     },
     "execution_count": 45,
     "metadata": {},
     "output_type": "execute_result"
    }
   ],
   "source": [
    "df.head()"
   ]
  },
  {
   "cell_type": "code",
   "execution_count": 41,
   "id": "5a23bc0c-787e-4e8d-8ece-3660cd6a9519",
   "metadata": {},
   "outputs": [
    {
     "name": "stdout",
     "output_type": "stream",
     "text": [
      "\n",
      "Component Performance Ratings:\n",
      "Component_Description\n",
      "Blower Motor       4.0\n",
      "Compressor Unit    4.0\n",
      "Condenser Coil     4.0\n",
      "Control Board      4.0\n",
      "Evaporator Coil    4.0\n",
      "Expansion Valve    4.0\n",
      "Fan Blade          4.0\n",
      "Heat Exchanger     4.0\n",
      "Refrigerant Gas    4.0\n",
      "Thermostat         4.0\n",
      "Name: Supplier_Rating, dtype: float64\n"
     ]
    }
   ],
   "source": [
    "# KPI 4: Supplier Performance\n",
    "# You can calculate a rating based on delivery, quality, and compliance\n",
    "# For simplicity, let's assume a rating scale of 1 to 5 based on lead time and accuracy\n",
    "df['Supplier_Rating'] = 5 - df['Lead_Time'] / avg_lead_time\n",
    "df.loc[df['Supplier_Rating'] < 1, 'Supplier_Rating'] = 1\n",
    "df.loc[df['Status'] != 'Delivered', 'Supplier_Rating'] = 1\n",
    "supplier_performance = df.groupby('Component_Description')['Supplier_Rating'].mean().sort_values(ascending=False)\n",
    "print(\"\\nComponent Performance Ratings:\")\n",
    "print(supplier_performance)"
   ]
  },
  {
   "cell_type": "code",
   "execution_count": 42,
   "id": "e22c7db9-0d73-42ea-9a10-3005c108645d",
   "metadata": {},
   "outputs": [
    {
     "name": "stdout",
     "output_type": "stream",
     "text": [
      "\n",
      "Spend Under Management (%): 100.0\n"
     ]
    }
   ],
   "source": [
    "# KPI 5: Spend Under Management\n",
    "# Calculate the percentage of total spend managed by the procurement team\n",
    "total_spend = df['Total_Price'].sum()\n",
    "procurement_spend = df[df['Status'] == 'Delivered']['Total_Price'].sum()\n",
    "spend_under_management = (procurement_spend / total_spend) * 100\n",
    "print(\"\\nSpend Under Management (%):\", spend_under_management)"
   ]
  },
  {
   "cell_type": "code",
   "execution_count": null,
   "id": "8574643c-d2fb-4876-a8d6-1f768318b1c8",
   "metadata": {},
   "outputs": [],
   "source": []
  }
 ],
 "metadata": {
  "kernelspec": {
   "display_name": "Python 3 (ipykernel)",
   "language": "python",
   "name": "python3"
  },
  "language_info": {
   "codemirror_mode": {
    "name": "ipython",
    "version": 3
   },
   "file_extension": ".py",
   "mimetype": "text/x-python",
   "name": "python",
   "nbconvert_exporter": "python",
   "pygments_lexer": "ipython3",
   "version": "3.12.3"
  }
 },
 "nbformat": 4,
 "nbformat_minor": 5
}
